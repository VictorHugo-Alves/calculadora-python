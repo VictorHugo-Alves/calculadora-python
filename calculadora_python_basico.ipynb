{
  "nbformat": 4,
  "nbformat_minor": 0,
  "metadata": {
    "colab": {
      "provenance": [],
      "authorship_tag": "ABX9TyNlFT4sxLA5oyXUrkWdee37",
      "include_colab_link": true
    },
    "kernelspec": {
      "name": "python3",
      "display_name": "Python 3"
    },
    "language_info": {
      "name": "python"
    }
  },
  "cells": [
    {
      "cell_type": "markdown",
      "metadata": {
        "id": "view-in-github",
        "colab_type": "text"
      },
      "source": [
        "<a href=\"https://colab.research.google.com/github/VictorHugo-Alves/calculadora-python/blob/main/calculadora_python_basico.ipynb\" target=\"_parent\"><img src=\"https://colab.research.google.com/assets/colab-badge.svg\" alt=\"Open In Colab\"/></a>"
      ]
    },
    {
      "cell_type": "markdown",
      "source": [
        "\n",
        "```\n",
        "# Calculadora em Python\n",
        "\n",
        "```\n",
        "\n",
        "```\n",
        "# Desenvolva uma calculadora em Python com tudo que você aprendeu nos capítulos até aqui no curso.\n",
        "\n",
        "```\n",
        "\n"
      ],
      "metadata": {
        "id": "5uKxZww4YpyK"
      }
    },
    {
      "cell_type": "code",
      "execution_count": null,
      "metadata": {
        "id": "d5tdjBp9YmY-"
      },
      "outputs": [],
      "source": [
        "print(\"\\n--------------------------- Calculadora em Python ---------------------------\")\n",
        "\n",
        "print('''\n",
        "Selecione o número da operação desejada:\n",
        "\n",
        "1.Adição\n",
        "2.Subtração\n",
        "3.Multiplicação\n",
        "4.Divisão\n",
        "5.Potência\n",
        "\t''')\n",
        "\n",
        "#Opções\n",
        "n = int(input('Digite sua opção(1/2/3/4/5)')) # Solicitando a operação desejada pelo usuário\n",
        "if n not in [1,2,3,4,5]:\n",
        "\texit(print('Operação inválida'))\n",
        "else:\n",
        "\ta = int(input('Insira o valor do primeiro número')) # Solicitando o valor do primeiro número\n",
        "\tb = int(input('Insira o valor do segundo número')) # Solicitando o valor do segundo número\n",
        "\tif n == 1:\n",
        "\t\tsoma = lambda a,b:a+b \t\t# Definindo uma função com parâmetros a e b e retornando a soma entre eles\n",
        "\t\tprint(f'{a} + {b} = {soma(a,b)}')\n",
        "\telif n == 2:\n",
        "\t\tsubtracao = lambda a,b:a-b \t\t# Definindo uma função com parâmetros a e b e retornando a subtração entre eles\n",
        "\t\tprint(f'{a} - {b} = {subtracao(a,b)}')\n",
        "\telif n == 3:\n",
        "\t\tmultiplicacao = lambda a,b:a*b \t\t# Definindo uma função com parâmetros a e b e retornando a multiplicação entre eles\n",
        "\t\tprint(f'{a} * {b} = {multiplicacao(a,b)}')\n",
        "\telif n == 4:\n",
        "\t\tif b == 0: \t\t#Tira a possibilidade da divisão por zero\n",
        "\t\t\texit(print('Não é possível a divisão por zero. Tente novamente com outro valor!'))\n",
        "\t\telse:\n",
        "\t\t\tdivisao = lambda a,b:a/b \t\t# Definindo uma função com parâmetros a e b e retornando a divisão entre eles\n",
        "\t\t\tprint(f'{a} / {b} = {divisao(a,b)}')\n",
        "\telse:\n",
        "\t\tpotencia = lambda a,b:pow(a,b) \t\t# Definindo uma função com parâmetros a e b e retornando a potência entre eles\n",
        "\t\tprint(f'{a} ** {b} = {potencia(a,b)}')"
      ]
    }
  ]
}